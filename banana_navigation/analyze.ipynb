{
 "cells": [
  {
   "cell_type": "code",
   "execution_count": 1,
   "metadata": {},
   "outputs": [],
   "source": [
    "from unityagents import UnityEnvironment\n",
    "import numpy as np\n",
    "import sys\n",
    "import torch\n",
    "%load_ext autoreload\n",
    "%autoreload 2\n",
    "sys.path.append(\"src\")"
   ]
  },
  {
   "cell_type": "code",
   "execution_count": 2,
   "metadata": {},
   "outputs": [],
   "source": [
    "from buffer import (\n",
    "    ReplayBuffer,\n",
    "    Qentry,\n",
    "    Qcollection\n",
    ")\n",
    "\n",
    "\n",
    "from model import (\n",
    "    Qnet,\n",
    "    inference_episode,\n",
    "    train_episode,\n",
    "    inference_episode_test,\n",
    ")\n",
    "from typing import Dict, Any\n",
    "\n",
    "from torch.utils.tensorboard import SummaryWriter"
   ]
  },
  {
   "cell_type": "code",
   "execution_count": null,
   "metadata": {},
   "outputs": [],
   "source": []
  },
  {
   "cell_type": "code",
   "execution_count": 5,
   "metadata": {},
   "outputs": [
    {
     "name": "stdout",
     "output_type": "stream",
     "text": [
      "state:\n",
      "\n",
      " [1.         0.         0.         0.         0.84408134 0.\n",
      " 0.         1.         0.         0.0748472  0.         1.\n",
      " 0.         0.         0.25755    1.         0.         0.\n",
      " 0.         0.74177343 0.         1.         0.         0.\n",
      " 0.25854847 0.         0.         1.         0.         0.09355672\n",
      " 0.         1.         0.         0.         0.31969345 0.\n",
      " 0.        ] \n",
      "\n",
      "state size:\n",
      "\n",
      " 37 \n",
      "\n"
     ]
    }
   ],
   "source": [
    "env = UnityEnvironment(file_name=\"unity/Banana_Linux/Banana.x86_64\")\n",
    "\n",
    "# get the default brain\n",
    "brain_name = env.brain_names[0]\n",
    "brain = env.brains[brain_name]\n",
    "\n",
    "# reset the environment\n",
    "env_info = env.reset(train_mode=True)[brain_name]\n",
    "\n",
    "# number of agents in the environment\n",
    "\n",
    "# number of actions\n",
    "action_size = brain.vector_action_space_size\n",
    "\n",
    "# examine the state space \n",
    "state = env_info.vector_observations[0]\n",
    "\n",
    "state_size = len(state)\n",
    "\n",
    "print(\"state:\\n\\n\", state, \"\\n\")\n",
    "print(\"state size:\\n\\n\", state_size, \"\\n\")"
   ]
  },
  {
   "cell_type": "code",
   "execution_count": 6,
   "metadata": {},
   "outputs": [],
   "source": [
    "experiement_name = \"final\"\n",
    "\n",
    "lr = 0.001\n",
    "\n",
    "replay_buffer_size = 20000\n",
    "\n",
    "batch_size = 128\n",
    "update_steps = 20\n",
    "sampling_beta = 1\n",
    "\n",
    "epsilon=1.0\n",
    "eps_end = 0.01\n",
    "eps_decay=0.999\n",
    "\n",
    "gamma=0.99\n",
    "\n",
    "copy_weight_scale = 0.0075\n",
    "\n",
    "test_iter = 100\n",
    "validation_iter = 500"
   ]
  },
  {
   "cell_type": "code",
   "execution_count": null,
   "metadata": {},
   "outputs": [],
   "source": []
  },
  {
   "cell_type": "code",
   "execution_count": 4,
   "metadata": {},
   "outputs": [],
   "source": []
  },
  {
   "cell_type": "code",
   "execution_count": 9,
   "metadata": {},
   "outputs": [],
   "source": [
    "qnet = Qnet(state_size, action_size, lr=lr)\n",
    "qnet_target = Qnet(state_size, action_size, lr=0)\n",
    "\n",
    "replaybuffer = ReplayBuffer(replay_buffer_size)\n",
    "\n",
    "writer = SummaryWriter(f\"runs/{experiement_name}\")"
   ]
  },
  {
   "cell_type": "code",
   "execution_count": 26,
   "metadata": {},
   "outputs": [],
   "source": []
  },
  {
   "cell_type": "code",
   "execution_count": 8,
   "metadata": {},
   "outputs": [
    {
     "data": {
      "text/plain": [
       "<All keys matched successfully>"
      ]
     },
     "execution_count": 8,
     "metadata": {},
     "output_type": "execute_result"
    }
   ],
   "source": [
    "qnet.load_state_dict(torch.load(\"models/model.ckp\"))"
   ]
  },
  {
   "cell_type": "code",
   "execution_count": null,
   "metadata": {
    "scrolled": true
   },
   "outputs": [
    {
     "name": "stdout",
     "output_type": "stream",
     "text": [
      "iteration: 500 - score: 0.75\n",
      "iteration: 1000 - score: 2.27\n"
     ]
    }
   ],
   "source": [
    "best_test_score = -np.inf\n",
    "\n",
    "for iteration in range(1, 10000):\n",
    "    \n",
    "    epsilon = max(eps_end, eps_decay*epsilon) # decrease epsilon\n",
    "    \n",
    "    _param_dict = {}\n",
    "    _param_dict[\"brain_name\"] = brain_name\n",
    "    _param_dict[\"gamma\"] = gamma\n",
    "    _param_dict[\"beta\"] = sampling_beta\n",
    "    _param_dict[\"reward_default\"] = 0\n",
    "    _param_dict[\"epsilon\"] = epsilon\n",
    "\n",
    "    replaybuffer, score, hits = inference_episode(\n",
    "        meta=_param_dict,\n",
    "        env=env,\n",
    "        qnet=qnet,\n",
    "        replaybuffer=replaybuffer\n",
    "    )\n",
    "\n",
    "    _param_dict = {}\n",
    "    _param_dict[\"batch_size\"] = batch_size\n",
    "    _param_dict[\"gamma\"] = gamma\n",
    "    _param_dict[\"update_steps\"] = update_steps\n",
    "    _param_dict[\"replace_sampling\"] = False\n",
    "    _param_dict[\"beta\"] = sampling_beta\n",
    "\n",
    "    qvalues_target, action = train_episode(\n",
    "        meta=_param_dict,\n",
    "        qnet=qnet,\n",
    "        qnet_target=qnet_target,\n",
    "        replaybuffer=replaybuffer,\n",
    "    )\n",
    "    \n",
    "    writer.add_scalar(\"training/kpi/score\", score, iteration)\n",
    "    writer.add_scalar(\"training/kpi/hits\", hits, iteration)\n",
    "    writer.add_scalar(\"training/hyper/epsilon\", epsilon, iteration)\n",
    "    \n",
    "    qnet_target.steal_weights(qnet, copy_weight_scale)\n",
    "    \n",
    "    if iteration % validation_iter == 0:\n",
    "        \n",
    "        _param_dict = {}\n",
    "        _param_dict[\"brain_name\"] = brain_name\n",
    "        _param_dict[\"iterations\"] = test_iter\n",
    "        \n",
    "        test_score = inference_episode_test(\n",
    "            meta=_param_dict,\n",
    "            env=env,\n",
    "            qnet=qnet,\n",
    "            train_mode=True,\n",
    "        )\n",
    "        \n",
    "        print(f\"iteration: {iteration} - score: {test_score}\")\n",
    "        \n",
    "        writer.add_scalar(\"validation/kpi/score\", test_score, iteration)\n",
    "        \n",
    "        if test_score > best_test_score:\n",
    "            test_score = best_test_score\n",
    "            torch.save(qnet.state_dict(), f\"models/{experiement_name}.ckp\")"
   ]
  },
  {
   "cell_type": "code",
   "execution_count": null,
   "metadata": {},
   "outputs": [],
   "source": []
  },
  {
   "cell_type": "code",
   "execution_count": 31,
   "metadata": {},
   "outputs": [],
   "source": [
    "_param_dict = {}\n",
    "_param_dict[\"brain_name\"] = brain_name\n",
    "_param_dict[\"iterations\"] = test_iter\n",
    "\n",
    "test_score = inference_episode_test(\n",
    "    meta=_param_dict,\n",
    "    env=env,\n",
    "    qnet=qnet,\n",
    "    train_mode=True,\n",
    ")\n",
    "\n",
    "writer.add_hparams(\n",
    "    hparam_dict = {\n",
    "        \"replay_buffer_size\": replay_buffer_size,\n",
    "        \"epsilon_start\": epsilon,\n",
    "        \"eps_end\": eps_end,\n",
    "        \"eps_decay\": eps_decay,\n",
    "        \"gamma\": gamma,\n",
    "        \"copy_weight_scale\": copy_weight_scale,\n",
    "    },\n",
    "    metric_dict={\"score\": test_score},\n",
    "    run_name=\"final_score\"\n",
    ")"
   ]
  },
  {
   "cell_type": "code",
   "execution_count": null,
   "metadata": {},
   "outputs": [],
   "source": [
    "torch.save(qnet.state_dict(), \"models/model.ckp\")"
   ]
  },
  {
   "cell_type": "code",
   "execution_count": null,
   "metadata": {},
   "outputs": [],
   "source": []
  },
  {
   "cell_type": "code",
   "execution_count": 34,
   "metadata": {},
   "outputs": [],
   "source": []
  },
  {
   "cell_type": "code",
   "execution_count": null,
   "metadata": {},
   "outputs": [],
   "source": []
  },
  {
   "cell_type": "code",
   "execution_count": null,
   "metadata": {},
   "outputs": [],
   "source": []
  }
 ],
 "metadata": {
  "kernelspec": {
   "display_name": "drlnd",
   "language": "python",
   "name": "drlnd"
  },
  "language_info": {
   "codemirror_mode": {
    "name": "ipython",
    "version": 3
   },
   "file_extension": ".py",
   "mimetype": "text/x-python",
   "name": "python",
   "nbconvert_exporter": "python",
   "pygments_lexer": "ipython3",
   "version": "3.6.13"
  }
 },
 "nbformat": 4,
 "nbformat_minor": 2
}
