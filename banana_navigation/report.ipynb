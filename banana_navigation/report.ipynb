{
 "cells": [
  {
   "cell_type": "code",
   "execution_count": null,
   "metadata": {},
   "outputs": [],
   "source": [
    "from IPython import display"
   ]
  },
  {
   "cell_type": "markdown",
   "metadata": {},
   "source": [
    "# Q-learning Network\n",
    "\n",
    "The q-network is parameterized by $w$, given $w$ and a state $s$ the q-network $Q(s, w)$ outputs a vector \n",
    "of \"q-values\" corresponding to scores for each possible action the agent can take in the enviroment. A high \"q-value\" indicates a action that is more favorable compared to an action with a low \"q-value\".\n",
    "\n",
    "The goal is to train the network so that when the agent follow the recommendations (policy) made by the q-network the number of collected yellow bananas will be maximized. \n",
    "\n",
    "As part of the training process of the network there are two different stages that repeats it self until the agent is deemed to have solved the enviroment\n",
    "\n",
    "* **Enviroment Interaction**: The agent interacting with the enviroment following the recommendations made by the q-network\n",
    "\n",
    "* **Learn**: Updating the q-network using the agent's interactions\n",
    "\n",
    "In order to facilitate the training of the network we have two sets of weights that parameterize the q-network, $w$ and $w_{\\text{target}}$, why that is will be introduced in the \"Learn\" section.\n",
    "\n",
    " \n",
    "###  Enviroment Interaction\n",
    "\n",
    "* Choose an action using the q-network's recommendations (policy) after doing inference with the current state using paramters $w$. \n",
    "When we start to train the q-network the recommendations are not going to be good (i.e. the network might have been initilzed in such a way that it always outputs approximately the same policy) and we know that we should not trust them. So instead of always following the policy, we are only going to follow it in $1 - \\epsilon$ of the times. As the q-networks learns to output good policies, we decrese the $\\epsilon$ until we reach $\\epsilon_{end}$. Even if the network output good policies it's often favorable to have $\\epsilon_{end}$ not equal to zero, making the agent continue to explore the enviroment outside of the network's current understanding about what a good policy might be. \n",
    "\n",
    "\n",
    "* As the agent interacts with the enviroment we are continuously producing states $s_t$ actions $a_t$, rewards $r_t$ (that we got after we took the action) and new states $s_{t+1}$ (when we are transitioning from $s_t$ using $a_t$). We call this collection an experience tuple ($s_t$, $a_t$, $r_t$, $s_{t+1}$). This experience tuple is stored in a buffer that is later used when performing the \"Learn\" step. Together with the experience tuple we also store a measurment of how much novel information that is contained within the tuple, we call this $\\text{td-error}$ (it will be defined below). \n",
    "\n",
    "\n",
    "###  Learn\n",
    "\n",
    "* Sample a batch of example from the buffer ($s_t$, $a_t$, $r_t$, $s_{t+1}$) together with the probability ($p_{t}$) of sample each experience tuple in the batch.\n",
    "\n",
    "* Set a target for the network to learn, $y_t = r_t + \\gamma * \\text{max}_{a}Q(s_{t+1}, a, w_{\\text{target}})$\n",
    "\n",
    "The target of the action $a_t$ when in state $s_t$ then becomes a weighted sum of the immediate reward (of taking action $a_t$) and the future expected reward, if we follow a greedy policy, expressed by $\\text{max}_{a}Q(s_{t+1}, a, w_{\\text{target}})$. The discount factor $\\gamma$ indicates how important future reward is compared to immediate reward in the target. When we construct the target we use $w_{\\text{target}}$ to parametrize the q-network, we do this to stabilize the learning that otherwise might become unstable due to correlations between the target and the network that undergoing learning.\n",
    "\n",
    "* Create the loss that compares the target with the actual output from the network that undergoes learning \n",
    "\n",
    "$$ L = (Q(s_t, a_t, w) - y_t)^2  = (Q(s_t, a_t, w) - (r_t + \\gamma * \\text{max}_{a}Q(s_{t+1}, a, w_{\\text{target}}))^2$$\n",
    "\n",
    "when we are doing the sampling from the replay buffer each experience tuple has a probability $p_{t}$ of beeing sampled, if all experience tuples have the same probability of beeing sampled $p_{\\text{uniform}} = \\frac{1}{N}$ where N is the number of tuples in the buffer. In the case when we sample some tuples with higher probability than others (e.g. tuples that holds more novel information) we must compensate, so that we do not insert any bias the learning, for that when constucting the loss. We create a weight $I_t$ that scales all experience tuple's contribution to the loss by comparing the probability of $p_{t}$ with what it would have had if we sampled all tuples uniformly\n",
    "\n",
    "$$I_{t} = \\frac{p_{\\text{uniform}}}{p_{t}} = \\frac{N}{p_{t}}$$\n",
    "\n",
    "The loss can thereby be rewritten accordingly, \n",
    "\n",
    "$$ L = I_{t}\\times(Q(s_t, a_t, w) - y_t)^2$$\n",
    "\n",
    "During the Enviroment Interaction step, before sending an experience tuple to the replaybuffer we calculate a $\\text{td-error}$, it's defined as \n",
    "\n",
    "$$\\text{td-error} = r_t + \\gamma * \\text{max}_{a}Q(s_{t+1}, a, w) - Q(s_{t}, a_t, w) $$\n",
    "\n",
    "and gives an indication about how suprised the network was by getting reward $r_t$ and having the max q-value of the following state. We can then think of $\\text{td-error}$ as a proxy for how much novel information the experience tuple holds. During learning we want the network to focus on learning new things, so it makes sense to sample the tuples with high $\\text{td-error}$ more frequently than those with low  $\\text{td-error}$. In the replaybuffer we then set the probability of sample one tuple to be proportional to it's $\\text{td-error}$. This kind of method is called Prioritized Experience Replay.\n",
    " \n",
    "* Update the $q(w)$'s weights by minimization of L using gradient descent. \n",
    "\n",
    "* Update the $q(w_{\\text{target}})$'s weights by low-pass filter \n",
    "\n",
    "$$w_{\\text{target}} = \\alpha \\times w_{\\text{target}} + (1 - \\alpha) \\times w$$"
   ]
  },
  {
   "cell_type": "markdown",
   "metadata": {},
   "source": [
    "# Network architecture"
   ]
  },
  {
   "cell_type": "markdown",
   "metadata": {},
   "source": [
    "The network consist of five hidden fully connected layers, seven including the input and output layers. After each layer, except the output layer, layer normalization is used that normalizes the input across the nodes's output. ELU is used as activation function after each layer normalization.\n",
    "    \n",
    "    Fully connected - in 37 out 256  -> 256 nodes\n",
    "    Layer Normalization\n",
    "    ELU\n",
    "    \n",
    "    Fully connected - in 256 out 256 -> 256 nodes\n",
    "    Layer Normalization\n",
    "    ELU\n",
    "    \n",
    "    Fully connected - in 256 out 128 -> 128 nodes\n",
    "    Layer Normalization\n",
    "    ELU\n",
    "    \n",
    "    Fully connected - in 128 out 64  -> 64 nodes\n",
    "    Layer Normalization\n",
    "    ELU\n",
    "    \n",
    "    Fully connected - in 64 out 64   -> 64 nodes\n",
    "    Layer Normalization\n",
    "    ELU\n",
    "    \n",
    "    Fully connected - in 64 out 32   -> 32 nodes\n",
    "    Layer Normalization\n",
    "    ELU\n",
    "    \n",
    "    Fully connected - in 32 out 4    -> 4 nodes\n"
   ]
  },
  {
   "cell_type": "code",
   "execution_count": 9,
   "metadata": {
    "scrolled": false
   },
   "outputs": [],
   "source": [
    "#display.Image(\"img/network_architecture.png\")"
   ]
  },
  {
   "cell_type": "markdown",
   "metadata": {},
   "source": [
    "# Peformance"
   ]
  },
  {
   "cell_type": "markdown",
   "metadata": {},
   "source": [
    "After 4000 episodes was a score of +13 reached."
   ]
  },
  {
   "cell_type": "code",
   "execution_count": 2,
   "metadata": {},
   "outputs": [
    {
     "data": {
      "image/png": "[encoded data removed]",
      "text/plain": [
       "<IPython.core.display.Image object>"
      ]
     },
     "execution_count": 2,
     "metadata": {},
     "output_type": "execute_result"
    }
   ],
   "source": [
    "display.Image(\"img/validation_score.png\")"
   ]
  },
  {
   "cell_type": "markdown",
   "metadata": {},
   "source": [
    "# Hyperparameters \n",
    "\n",
    "## Training \n",
    "\n",
    "* The number of training iterations = 10000\n",
    "\n",
    "* The learning-rate used during training of the model lr = 0.001\n",
    "\n",
    "* The size of the replay buffer, replay_buffer_size = 20000\n",
    "\n",
    "* The batchsize for each update run, batch_size = 128\n",
    "\n",
    "* How many consecutive update runs are we going to do before we are producing new entries to the replaybuffer update_steps = 20\n",
    "\n",
    "* lowpass filter factor that controls the q-learning's targets update speed in terms, copy_weight_scale = 0.0075\n",
    "\n",
    "## Replay buffer\n",
    "\n",
    "* Controls the weighing of old tuples to the replay buffer We normalize the weights of the entries in the replay buffer by the number times we have used the tuple to train the model and use sampling_beta as the exponent to that normalizing factor. i.e. sampling_beta -> inf, we only care about new tuples, sampling_beta = 0, we do not care of we have seen the entry many times we will sample the tuples, sampling_beta = 1\n",
    "\n",
    "\n",
    "## Exploration  vs explotation\n",
    "\n",
    "* The probability that we will choose one action on random instead of selecting the action with the highest q-value, epsilon=1.0\n",
    "\n",
    "* Controls how we are decreasing epsilon during training, eps_decay=0.999 \n",
    "\n",
    "* The final epsilon eps_end = 0.01\n",
    "\n",
    "* Discount factor in the temporal difference q-learning loss, controls the focus on future vs immediate reward, gamma=0.99\n",
    "\n",
    "\n",
    "## Evaluation\n",
    "\n",
    "* How many episodes are we using when evaluating the performance of the model, test_iter = 100\n",
    "\n",
    "* How frequently are we running a validation-run during training, validation_iter = 500"
   ]
  },
  {
   "cell_type": "markdown",
   "metadata": {},
   "source": [
    "# Future work\n",
    "\n",
    "#### Speed up training process\n",
    "\n",
    "* Implement GPU-support\n",
    "* Run the batch processing in a seperat thread compared the model inference\n",
    "\n",
    "#### Fine tuning of hyperparamters\n",
    "   \n",
    "* Loop over a grid of hyperparameters, use tensorboard's hyperparamter tracking tool to narrow down a better set of hyperparamters \n",
    "\n",
    "#### Using historical state/action information when doing the inference\n",
    "\n",
    "* Use previous states leading up the agent's current state when doing the model inference. Also, add the actions taken during the previous steps, so that the network can build an internal representation where in the enviroment possible clusters of yellow banans can be found. \n",
    "s\n",
    "#### Using images as as the state representation\n",
    "\n",
    "* Analyze if using images together with a CNN might lead to a better agent. \n",
    "\n",
    "#### Double DQN \n",
    "\n",
    "#### Dueling DQN\n"
   ]
  },
  {
   "cell_type": "code",
   "execution_count": null,
   "metadata": {},
   "outputs": [],
   "source": []
  }
 ],
 "metadata": {
  "kernelspec": {
   "display_name": "drlnd",
   "language": "python",
   "name": "drlnd"
  },
  "language_info": {
   "codemirror_mode": {
    "name": "ipython",
    "version": 3
   },
   "file_extension": ".py",
   "mimetype": "text/x-python",
   "name": "python",
   "nbconvert_exporter": "python",
   "pygments_lexer": "ipython3",
   "version": "3.6.13"
  }
 },
 "nbformat": 4,
 "nbformat_minor": 2
}
