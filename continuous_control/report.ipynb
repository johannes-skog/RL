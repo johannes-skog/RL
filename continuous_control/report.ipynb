{
 "cells": [
  {
   "cell_type": "code",
   "execution_count": 1,
   "metadata": {},
   "outputs": [],
   "source": [
    "from IPython import display"
   ]
  },
  {
   "cell_type": "markdown",
   "metadata": {},
   "source": [
    "# Deep Deterministic Policy Gradient (DDPG)\n",
    "\n",
    "\n",
    "DDPG method uses two networks to learn the enviroment and to maximize the future reward in a system that may be controlled by means of actions represented in a continuous domain. The first network is called the Actor $A(w^a)$ (parameterized by $w^a$), this network takes the current state, of the agent, and outputs the best (according to the network) action. The second network is the called the Critic $C(w^c)$ (parameterized by $w^c$), this network is responsible to criticize the action taken by the Actor network. The ciritc network does that by taking the current state and the actions, chosen by the Actor, and outputs the q-value. The q-value indicates how favorable is would be to take the action when in the current state. \n",
    "\n",
    "As part of the training process of the network there are two different stages that repeats it self until the agent is deemed to have solved the enviroment\n",
    "\n",
    "* **Enviroment Interaction**: The agent interacting with the enviroment following the recommendations made by the Actor network\n",
    "\n",
    "* **Learn**: Updating the Actor/Critic networks using the agent's interactions\n",
    "\n",
    "\n",
    "In order to facilitate the training of the networks we have two sets of weights, for each network, ($w^a$, $w^c$) and ($w^a_{\\text{target}}$, $w^c_{\\text{target}}$), why that is will be introduced in the \"Learn\" section.\n",
    "\n",
    " \n",
    "###  Enviroment Interaction\n",
    "\n",
    "* Choose an action using the actor network's recommendations, i.e policy, after doing inference with the current state using paramters $w_a$. When we start to train the actor network the recommendations are not going to be good (i.e. the network might have been initilzed in such a way that it always outputs approximately the same policy) and we know that we should not trust them. So instead of always following the policy, we are only going to follow it in $1 - \\epsilon$ of the times, the rest of the times we are going to generate actions from a Ornstein–Uhlenbeck process. As the actor networks learns to output good policies, we decrese the $\\epsilon$ until we reach $\\epsilon_{end}$. Even if the network output good policies it's often favorable to have $\\epsilon_{end}$ not equal to zero, making the agent continue to explore the enviroment outside of the network's current understanding about what a good policy might be. \n",
    "\n",
    "\n",
    "* As the agent interacts with the enviroment we are continuously producing states $s_t$ actions $a_t$, rewards $r_t$ (that we got after we took the action) and new states $s_{t+1}$ (when we are transitioning from $s_t$ using $a_t$). We call this collection an experience tuple ($s_t$, $a_t$, $r_t$, $s_{t+1}$). This experience tuple is stored in a buffer that is later used when performing the \"Learn\" step. Together with the experience tuple we also store a measurment of how much novel information that is contained within the tuple, we call this $\\text{td-error}$ (it will be defined below). \n",
    "\n",
    "\n",
    "###  Learn\n",
    "\n",
    "* Sample a batch of experience tuples from the buffer ($s_t$, $a_t$, $r_t$, $s_{t+1}$)\n",
    "\n",
    "* Set a target for the critic network to learn, $y_t = r_t + \\gamma * C(s_{t+1}, a, w^c_{\\text{target}})$\n",
    "\n",
    "The target of the action $a_t$ when in state $s_t$ then becomes a weighted sum of the immediate reward (of taking action $a_t$) and the future expected reward, if we follow a greedy policy. The discount factor $\\gamma$ indicates how important future reward is compared to immediate reward in the target. When we construct the target we use $w_{\\text{target}}$ to parametrize the critic network, we do this to stabilize the learning that otherwise might become unstable due to correlations between the target and the network that undergoing learning.\n",
    "\n",
    "* Create the loss for the critic network that compares the target with the actual output from the network that undergoes learning \n",
    "\n",
    "$$ L_c = (C(s_t, a_t, w^c) - y_t)^2  = (C(s_t, a_t, w^c) - (r_t + \\gamma * C(s_{t+1}, a, w^c_{\\text{target}}))^2$$\n",
    "\n",
    "* Create the loss for the actor network with the objective to output actions that maximize the output (q-values) from the critic\n",
    "\n",
    "$$ L_a = - C(s_t, A(s_t, w_a), w_c) $$\n",
    "\n",
    "During the Enviroment Interaction step, before sending an experience tuple to the replaybuffer we calculate a $\\text{td-error}$, it's defined as \n",
    "\n",
    "$$\\text{td-error} = r_t + \\gamma * C(s_{t+1}, a_t+1, w^c) - C(s_{t}, a_t, w^c) $$\n",
    "\n",
    "and gives an indication about how suprised the network was by getting reward $r_t$ and having the q-value of the following state. We can then think of $\\text{td-error}$ as a proxy for how much novel information the experience tuple holds. During learning we want the network to focus on learning new things, so it makes sense to sample the tuples with high $\\text{td-error}$ more frequently than those with low  $\\text{td-error}$. In the replaybuffer we then set the probability of sample one tuple to be proportional to it's $\\text{td-error}$. This kind of method is called Prioritized Experience Replay. Importantly, each time we use the experience tuple we update the $\\text{td-error}$ in the replay buffer.\n",
    " \n",
    "* Update $C(w^c)$, $A(w^a)$ by minimization of $L_a$ and $L_c$  using gradient descent. \n",
    "\n",
    "* Update $C(w^c_{\\text{target}})$ and $A(w^a_{\\text{target}})$ weights by low-pass filter \n",
    "\n",
    "$$w^c_{\\text{target}} = \\tau \\times w^c_{\\text{target}} + (1 - \\tau) \\times w^c$$\n",
    "\n",
    "$$w^a_{\\text{target}} = \\tau \\times w^a_{\\text{target}} + (1 - \\tau) \\times w^a$$"
   ]
  },
  {
   "cell_type": "markdown",
   "metadata": {},
   "source": [
    "# Network architecture"
   ]
  },
  {
   "cell_type": "markdown",
   "metadata": {},
   "source": [
    "The networks consist of 3 hidden fully connected layers, 5 including the input and output layers. After each layer, except the output layer, layer normalization is used that normalizes the input across the nodes's output. ELU is used as activation function after each layer normalization.\n",
    "   \n",
    "### Critic    \n",
    "   \n",
    "    Fully connected - in 37 out 256  -> 256 nodes\n",
    "    Layer Normalization\n",
    "    ELU\n",
    "    \n",
    "    Fully connected - in 256 out 256 -> 256 nodes\n",
    "    Layer Normalization\n",
    "    ELU\n",
    "    \n",
    "    Fully connected - in 256 out 128 -> 128 nodes\n",
    "    Layer Normalization\n",
    "    ELU\n",
    "    \n",
    "    Fully connected - in 128 out 128  -> 128 nodes\n",
    "    Layer Normalization\n",
    "    ELU\n",
    "    \n",
    "    Fully connected - in 128 out 1   -> 1 nodes\n",
    "    \n",
    "    \n",
    "### Actor \n",
    "    \n",
    "    Fully connected - in 33 out 256  -> 256 nodes\n",
    "    Layer Normalization\n",
    "    ELU\n",
    "    \n",
    "    Fully connected - in 256 out 256 -> 256 nodes\n",
    "    Layer Normalization\n",
    "    ELU\n",
    "    \n",
    "    Fully connected - in 256 out 128 -> 128 nodes\n",
    "    Layer Normalization\n",
    "    ELU\n",
    "    \n",
    "    Fully connected - in 128 out 128  -> 128 nodes\n",
    "    Layer Normalization\n",
    "    ELU\n",
    "    \n",
    "    Fully connected - in 128 out 4   -> 1 nodes\n",
    "    Hyperbolic Tangent\n",
    "\n"
   ]
  },
  {
   "cell_type": "markdown",
   "metadata": {},
   "source": [
    "# Peformance"
   ]
  },
  {
   "cell_type": "markdown",
   "metadata": {},
   "source": [
    "The graphs show the average score of the agent. To the right is the validation score where we always take the actions coming from the actor network. To the left is the training score where we partly take the actions coming from the actor network and partly from our noise generator according to the training scheme. \n",
    "\n",
    "When the #episode < 100, we calculate the average of all the available scores. \n",
    "When the #episode >= 100, we calculate the average only using the 100 most recent scores.\n",
    "\n",
    "* After 38 episodes was an average score of +30, for both the validation and training, achieved.\n",
    "\n",
    "* After 100 episodes was an average of +36, for both the validation and training, achieved"
   ]
  },
  {
   "cell_type": "code",
   "execution_count": 3,
   "metadata": {},
   "outputs": [
    {
     "data": {
      "image/png": "[encoded data removed]",
      "text/plain": [
       "<IPython.core.display.Image object>"
      ]
     },
     "execution_count": 3,
     "metadata": {},
     "output_type": "execute_result"
    }
   ],
   "source": [
    "display.Image(\"img/performance.png\")"
   ]
  },
  {
   "cell_type": "markdown",
   "metadata": {},
   "source": [
    "The graph shows the validation score for the different episodes"
   ]
  },
  {
   "cell_type": "code",
   "execution_count": 4,
   "metadata": {},
   "outputs": [
    {
     "data": {
      "image/png": "[encoded data removed]",
      "text/plain": [
       "<IPython.core.display.Image object>"
      ]
     },
     "execution_count": 4,
     "metadata": {},
     "output_type": "execute_result"
    }
   ],
   "source": [
    "display.Image(\"img/performance_instantaneous.png\")"
   ]
  },
  {
   "cell_type": "markdown",
   "metadata": {},
   "source": [
    "# Hyperparameters \n",
    "\n",
    "The name of the experiment, as seen in tensorboard\n",
    "    \n",
    "    experiement_name = \"final\"\n",
    "\n",
    "Size of the batches\n",
    "    \n",
    "    batch_size = 128\n",
    "\n",
    "Size of the replay bufffer\n",
    "    \n",
    "    replay_buffer_size = int(1e6)\n",
    "\n",
    "In the replay buffer we normalize the weights (w), associated with each replay tuplet, with the number of times (seen),\n",
    "the tuplet has been used for training. We then scale (w) with (seen) -> w <- w / seen ** beta.\n",
    "High beta -> we prefer to sample unseen tuples \n",
    "    \n",
    "    beta = 1\n",
    "\n",
    "In the replay buffer, after we have scaled the weights and converted it to a probability distribution (p) we scale the \n",
    "distribution, p.^beta_2. High beta_2 -> we will only sample tuples with high weight\n",
    "    \n",
    "    beta_2 = 2\n",
    "\n",
    "Number of episodes used for training\n",
    "    \n",
    "    episodes = 2000\n",
    "\n",
    "Gamma in the td-loss \n",
    "    \n",
    "    gamma = 0.99\n",
    "\n",
    "We have the possibility of scaling the reward with a factor\n",
    "    \n",
    "    scale_reward = 10\n",
    "\n",
    "Where do you want to run the inference/training, cuda or cpu \n",
    "    \n",
    "    device = \"cuda\"\n",
    "\n",
    "We wait (inference_steps), for each training episode, before we update the models\n",
    "    \n",
    "    inference_steps = 20\n",
    "\n",
    "When we start update the models we do that for (update_steps) \n",
    "Total number of training steps per episode (1000 / inference_steps) * update_steps\n",
    "    \n",
    "    update_steps = 45\n",
    "\n",
    "\n",
    "We randomly, with probability sigma, choose to use action generated from our noise-generator or to use \n",
    "the output from the actor-network\n",
    "\n",
    "    Start of sigma \n",
    "    sigma_init = 1\n",
    "    decay factor\n",
    "    sigma_decay = 0.86\n",
    "    stop of sigma\n",
    "    sigma_end = 0.1\n",
    "\n",
    " Ornstein–Uhlenbeck process \n",
    " \n",
    "    Ornstein–Uhlenbeck sigma \n",
    "    ou_sigma = 0.25\n",
    "\n",
    "Number of times we are running evaluation episodes (that we average over) after each training episode\n",
    "    \n",
    "    eval_rounds = 100\n",
    "\n",
    "Learning rates\n",
    "\n",
    "    lr_critic = 10**-4\n",
    "    lr_actor = 10**-4\n",
    "    Controls how we are updating the target network after each training step\n",
    "    tau_critic = 10**-3\n",
    "    tau_actor = 10**-3\n",
    "\n",
    "Number of output nodes in the first 2 layers\n",
    "    \n",
    "    hidden_dim = 256\n",
    "\n",
    "Number of output nodes in the following hidden layers\n",
    "\n",
    "    squeeze_dim = 128"
   ]
  },
  {
   "cell_type": "markdown",
   "metadata": {},
   "source": [
    "# Future work\n",
    "\n",
    "#### Speed up training process\n",
    "\n",
    "* Run the batch processing in a seperat thread compared the model inference\n",
    "\n",
    "#### Fine tuning of hyperparamters\n",
    "   \n",
    "* Loop over a grid of hyperparameters, use tensorboard's hyperparamter tracking tool to narrow down a better set of hyperparamters \n",
    "\n",
    "#### Using historical state/action information when doing the inference\n",
    "\n",
    "* Use previous states leading up the agent's current state when doing the model inference. Also, add the actions taken during the previous steps\n",
    "\n",
    "#### Explore on-policy\n",
    "* A2C networks\n"
   ]
  },
  {
   "cell_type": "code",
   "execution_count": null,
   "metadata": {},
   "outputs": [],
   "source": []
  }
 ],
 "metadata": {
  "kernelspec": {
   "display_name": "drlnd",
   "language": "python",
   "name": "drlnd"
  },
  "language_info": {
   "codemirror_mode": {
    "name": "ipython",
    "version": 3
   },
   "file_extension": ".py",
   "mimetype": "text/x-python",
   "name": "python",
   "nbconvert_exporter": "python",
   "pygments_lexer": "ipython3",
   "version": "3.6.13"
  }
 },
 "nbformat": 4,
 "nbformat_minor": 2
}
